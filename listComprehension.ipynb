{
  "nbformat": 4,
  "nbformat_minor": 0,
  "metadata": {
    "colab": {
      "provenance": [],
      "toc_visible": true,
      "authorship_tag": "ABX9TyOkSUmEAtCBHYPfNZjGDvsJ",
      "include_colab_link": true
    },
    "kernelspec": {
      "name": "python3",
      "display_name": "Python 3"
    },
    "language_info": {
      "name": "python"
    }
  },
  "cells": [
    {
      "cell_type": "markdown",
      "metadata": {
        "id": "view-in-github",
        "colab_type": "text"
      },
      "source": [
        "<a href=\"https://colab.research.google.com/github/vineetkukreti/Python/blob/main/listComprehension.ipynb\" target=\"_parent\"><img src=\"https://colab.research.google.com/assets/colab-badge.svg\" alt=\"Open In Colab\"/></a>"
      ]
    },
    {
      "cell_type": "code",
      "execution_count": 1,
      "metadata": {
        "id": "P-ni3FxMNx9v"
      },
      "outputs": [],
      "source": [
        "# Write a Python program to get a string from a given string where all occurrences of its first char have been changed to '$', except the first char itself."
      ]
    },
    {
      "cell_type": "code",
      "source": [],
      "metadata": {
        "id": "QQX4l6SaN2o9"
      },
      "execution_count": 1,
      "outputs": []
    }
  ]
}