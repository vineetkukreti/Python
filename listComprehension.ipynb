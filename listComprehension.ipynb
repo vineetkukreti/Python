{
  "nbformat": 4,
  "nbformat_minor": 0,
  "metadata": {
    "colab": {
      "provenance": [],
      "authorship_tag": "ABX9TyNtzDgGX57Duwg850BaXjE9",
      "include_colab_link": true
    },
    "kernelspec": {
      "name": "python3",
      "display_name": "Python 3"
    },
    "language_info": {
      "name": "python"
    }
  },
  "cells": [
    {
      "cell_type": "markdown",
      "metadata": {
        "id": "view-in-github",
        "colab_type": "text"
      },
      "source": [
        "<a href=\"https://colab.research.google.com/github/vineetkukreti/Python/blob/main/listComprehension.ipynb\" target=\"_parent\"><img src=\"https://colab.research.google.com/assets/colab-badge.svg\" alt=\"Open In Colab\"/></a>"
      ]
    },
    {
      "cell_type": "code",
      "execution_count": null,
      "metadata": {
        "id": "P-ni3FxMNx9v"
      },
      "outputs": [],
      "source": [
        "\"\"\"\"\n",
        "Write a Python function called square_numbers that takes in a list of integers and returns a new list containing the square of each number in the input list using list comprehension.\n",
        "\n",
        "Write a Python function called get_even_numbers that takes in a list of integers and returns a new list containing only the even numbers using list comprehension.\n",
        "\n",
        "Write a Python function called get_common_elements that takes in two lists of integers and returns a new list containing the common elements using list comprehension.\n",
        "\n",
        "Write a Python function called get_words_with_length that takes in a list of words and an integer n and returns a new list containing only the words with length n using list comprehension.\n",
        "\n",
        "Write a Python function called get_sum_of_squares that takes in a list of integers and returns the sum of the squares of all the numbers in the list using list comprehension.\n",
        "\n",
        "Write a Python function called get_multiples_of_n that takes in an integer n and an integer k, and returns a list of the first k multiples of n using list comprehension.\n",
        "\n",
        "Write a Python function called get_vowels that takes in a string and returns a new list containing only the vowels in the input string using list comprehension.\n",
        "\n",
        "Write a Python function called get_non_duplicates that takes in a list of integers and returns a new list containing only the numbers that do not appear more than once in the input list using list comprehension.\n",
        "\n",
        "Write a Python function called get_factorial that takes in an integer n and returns the factorial of n using list comprehension.\n",
        "\n",
        "Write a Python function called get_prime_numbers that takes in an integer n and returns a list of all prime numbers up to and including n using list comprehension.\n",
        "\n",
        "\"\"\""
      ]
    },
    {
      "cell_type": "code",
      "source": [
        "#q1 Write a Python function called square_numbers that takes in a list of integers and returns a new list containing the square of each number in the input list using list comprehension.\n",
        "lt = [1,2,3,4,5,56]\n",
        "newList = [x*x for x in lt]\n",
        "newList"
      ],
      "metadata": {
        "id": "QQX4l6SaN2o9"
      },
      "execution_count": 3,
      "outputs": []
    },
    {
      "cell_type": "code",
      "source": [
        "#2. Write a Python function called get_even_numbers that takes in a list of integers and returns a new list containing only the even numbers using list comprehension.\n",
        "lt = [1,2,3,4,5,56]\n",
        "newList = [x*x for x in lt if x%2==0]\n",
        "newList"
      ],
      "metadata": {
        "id": "C76-rmQnQvJ8",
        "outputId": "460afc53-73af-454a-bbd7-cd51c683952f",
        "colab": {
          "base_uri": "https://localhost:8080/"
        }
      },
      "execution_count": 6,
      "outputs": [
        {
          "output_type": "execute_result",
          "data": {
            "text/plain": [
              "[4, 16, 3136]"
            ]
          },
          "metadata": {},
          "execution_count": 6
        }
      ]
    },
    {
      "cell_type": "code",
      "source": [
        "#3. Write a Python function called get_common_elements that takes in two lists of integers and returns a new list containing the common elements using list comprehension.\n",
        "l1 = [1,2,3,4,5,6]\n",
        "l2 = [1,2,3,8,9,3]\n",
        "l3 = [x for x in l1 if x in l2]\n",
        "l3"
      ],
      "metadata": {
        "id": "S5qacYQ1Q9pH",
        "outputId": "9b3faaef-ea1f-4dba-802f-e5957bc13c4a",
        "colab": {
          "base_uri": "https://localhost:8080/"
        }
      },
      "execution_count": 8,
      "outputs": [
        {
          "output_type": "execute_result",
          "data": {
            "text/plain": [
              "[1, 2, 3]"
            ]
          },
          "metadata": {},
          "execution_count": 8
        }
      ]
    },
    {
      "cell_type": "code",
      "source": [
        "#4 .Write a Python function called get_words_with_length that takes in a list of words and an \n",
        "#integer n and returns a new list containing only the words with length n using list comprehension.\n",
        "\n",
        "def get_words_with_length(l,n):\n",
        "  l1 =  [x for x in l if len(x)==n]\n",
        "  return l1\n",
        "\n",
        "l = [\"vinet\", \"sd\",\"sdf\",\"set\",\"tra\"]\n",
        "l = get_words_with_length(l,3)\n",
        "print(l)"
      ],
      "metadata": {
        "id": "6hB7qKZ9RzEH",
        "outputId": "6f5b1507-5309-48f6-e554-a435ecaffee7",
        "colab": {
          "base_uri": "https://localhost:8080/"
        }
      },
      "execution_count": 10,
      "outputs": [
        {
          "output_type": "stream",
          "name": "stdout",
          "text": [
            "['sdf', 'set', 'tra']\n"
          ]
        }
      ]
    },
    {
      "cell_type": "code",
      "source": [
        "n = 5\n",
        "\n",
        "factorial = 1\n",
        "\n",
        "# Using list comprehension to calculate the factorial\n",
        "factorial = [factorial * i for i in range(1, n+1)]\n",
        "\n",
        "print(\"Factorial of\", n, \"is:\", factorial[-1])\n"
      ],
      "metadata": {
        "id": "RrH1B5w6itx1",
        "outputId": "ae3a18a8-3579-44b2-d920-5d2c9f596726",
        "colab": {
          "base_uri": "https://localhost:8080/"
        }
      },
      "execution_count": 25,
      "outputs": [
        {
          "output_type": "stream",
          "name": "stdout",
          "text": [
            "Factorial of 5 is: 5\n"
          ]
        }
      ]
    }
  ]
}